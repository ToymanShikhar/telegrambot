{
 "cells": [
  {
   "cell_type": "code",
   "execution_count": 1,
   "metadata": {},
   "outputs": [],
   "source": [
    "import os\n",
    "os.environ[\"GOOGLE_APPLICATION_CREDENTIALS\"] = \"client.json\"\n",
    "\n",
    "import dialogflow_v2 as dialogflow\n",
    "dialogflow_session_client = dialogflow.SessionsClient()\n",
    "PROJECT_ID = \"newsbot-amgr\""
   ]
  },
  {
   "cell_type": "code",
   "execution_count": 2,
   "metadata": {},
   "outputs": [],
   "source": [
    "def detect_intent_from_text(text, session_id, language_code='en'):\n",
    "    session = dialogflow_session_client.session_path(PROJECT_ID, session_id)\n",
    "    text_input = dialogflow.types.TextInput(text=text, language_code=language_code)\n",
    "    query_input = dialogflow.types.QueryInput(text=text_input)\n",
    "    response = dialogflow_session_client.detect_intent(session=session, query_input=query_input)\n",
    "    return response.query_result"
   ]
  },
  {
   "cell_type": "code",
   "execution_count": 36,
   "metadata": {},
   "outputs": [],
   "source": [
    "response = detect_intent_from_text(\"Get some news\", 12345)"
   ]
  },
  {
   "cell_type": "code",
   "execution_count": 37,
   "metadata": {},
   "outputs": [
    {
     "data": {
      "text/plain": [
       "query_text: \"Get some news\"\n",
       "parameters {\n",
       "  fields {\n",
       "    key: \"geo-country\"\n",
       "    value {\n",
       "      string_value: \"\"\n",
       "    }\n",
       "  }\n",
       "  fields {\n",
       "    key: \"language\"\n",
       "    value {\n",
       "      string_value: \"\"\n",
       "    }\n",
       "  }\n",
       "  fields {\n",
       "    key: \"topic\"\n",
       "    value {\n",
       "      list_value {\n",
       "      }\n",
       "    }\n",
       "  }\n",
       "}\n",
       "all_required_params_present: true\n",
       "fulfillment_messages {\n",
       "  text {\n",
       "    text: \"\"\n",
       "  }\n",
       "}\n",
       "intent {\n",
       "  name: \"projects/newsbot-amgr/agent/intents/1dba3306-6f68-47df-a869-0f45d69fd4b8\"\n",
       "  display_name: \"get_news\"\n",
       "}\n",
       "intent_detection_confidence: 1.0\n",
       "language_code: \"en\""
      ]
     },
     "execution_count": 37,
     "metadata": {},
     "output_type": "execute_result"
    }
   ],
   "source": [
    "response\n"
   ]
  },
  {
   "cell_type": "code",
   "execution_count": 38,
   "metadata": {},
   "outputs": [
    {
     "data": {
      "text/plain": [
       "'get_news'"
      ]
     },
     "execution_count": 38,
     "metadata": {},
     "output_type": "execute_result"
    }
   ],
   "source": [
    "response.intent.display_name"
   ]
  },
  {
   "cell_type": "code",
   "execution_count": 41,
   "metadata": {},
   "outputs": [],
   "source": [
    "a = dict(response.parameters)"
   ]
  },
  {
   "cell_type": "code",
   "execution_count": 46,
   "metadata": {},
   "outputs": [],
   "source": [
    "b = 0"
   ]
  },
  {
   "cell_type": "code",
   "execution_count": 47,
   "metadata": {},
   "outputs": [],
   "source": [
    "if a['topic']:\n",
    "    b=1"
   ]
  },
  {
   "cell_type": "code",
   "execution_count": 49,
   "metadata": {},
   "outputs": [
    {
     "data": {
      "text/plain": [
       "['Top Stories',\n",
       " 'World',\n",
       " 'Nation',\n",
       " 'Business',\n",
       " 'Technology',\n",
       " 'Entertainment',\n",
       " 'Sports',\n",
       " 'Science',\n",
       " 'Health']"
      ]
     },
     "execution_count": 49,
     "metadata": {},
     "output_type": "execute_result"
    }
   ],
   "source": [
    "client.topics\n"
   ]
  },
  {
   "cell_type": "code",
   "execution_count": null,
   "metadata": {},
   "outputs": [],
   "source": [
    "print(reply['geo-country'])\n",
    "        print(reply['language'])\n",
    "        print(reply['topic'][0])"
   ]
  },
  {
   "cell_type": "code",
   "execution_count": null,
   "metadata": {},
   "outputs": [],
   "source": []
  },
  {
   "cell_type": "code",
   "execution_count": null,
   "metadata": {},
   "outputs": [],
   "source": []
  },
  {
   "cell_type": "code",
   "execution_count": 22,
   "metadata": {},
   "outputs": [
    {
     "name": "stderr",
     "output_type": "stream",
     "text": [
      "/usr/local/lib/python3.8/dist-packages/fuzzywuzzy/fuzz.py:11: UserWarning: Using slow pure-python SequenceMatcher. Install python-Levenshtein to remove this warning\n",
      "  warnings.warn('Using slow pure-python SequenceMatcher. Install python-Levenshtein to remove this warning')\n"
     ]
    }
   ],
   "source": [
    "from gnewsclient import gnewsclient\n"
   ]
  },
  {
   "cell_type": "code",
   "execution_count": 23,
   "metadata": {},
   "outputs": [],
   "source": [
    "client = gnewsclient.NewsClient()"
   ]
  },
  {
   "cell_type": "code",
   "execution_count": 26,
   "metadata": {},
   "outputs": [
    {
     "data": {
      "text/plain": [
       "{'location': 'India', 'language': 'english', 'topic': 'Top Stories'}"
      ]
     },
     "execution_count": 26,
     "metadata": {},
     "output_type": "execute_result"
    }
   ],
   "source": [
    "client.get_config()"
   ]
  },
  {
   "cell_type": "code",
   "execution_count": 25,
   "metadata": {},
   "outputs": [],
   "source": [
    "client.location = \"India\""
   ]
  },
  {
   "cell_type": "code",
   "execution_count": 27,
   "metadata": {},
   "outputs": [
    {
     "data": {
      "text/plain": [
       "[{'title': '\"Rahul Gandhi Becoming India\\'s Doomsday Man,\" Says Nirmala Sitharaman - NDTV',\n",
       "  'link': 'https://news.google.com/__i/rss/rd/articles/CBMikAFodHRwczovL3d3dy5uZHR2LmNvbS9pbmRpYS1uZXdzL25pcm1hbGEtc2l0aGFyYW1hbi1sb2stc2FiaGEtb3VyLWNyb25pZXMtYXJlLXRoZS1qYW50YS1uaXJtYWxhLXNpdGhhcm1hbnMtbG9rLXNhYmhhLXJldG9ydC10by1jcm9ueS1zbHVyLTIzNjk3MDbSAaUBaHR0cHM6Ly93d3cubmR0di5jb20vaW5kaWEtbmV3cy9uaXJtYWxhLXNpdGhhcmFtYW4tbG9rLXNhYmhhLW91ci1jcm9uaWVzLWFyZS10aGUtamFudGEtbmlybWFsYS1zaXRoYXJtYW5zLWxvay1zYWJoYS1yZXRvcnQtdG8tY3Jvbnktc2x1ci0yMzY5NzA2P2FtcD0xJmFrYW1haS1ydW09b2Zm?oc=5',\n",
       "  'media': None},\n",
       " {'title': \"Pandemic didn't deter govt from taking up reforms for sustaining long-term growth: Sitharaman - Times of India\",\n",
       "  'link': 'https://news.google.com/__i/rss/rd/articles/CBMisAFodHRwczovL3RpbWVzb2ZpbmRpYS5pbmRpYXRpbWVzLmNvbS9idXNpbmVzcy9pbmRpYS1idXNpbmVzcy9wYW5kZW1pYy1kaWRudC1kZXRlci1nb3Z0LWZyb20tdGFraW5nLXVwLXJlZm9ybXMtZm9yLXN1c3RhaW5pbmctbG9uZy10ZXJtLWdyb3d0aC1zaXRoYXJhbWFuL2FydGljbGVzaG93LzgwODkyNDIzLmNtc9IBqwFodHRwczovL20udGltZXNvZmluZGlhLmNvbS9idXNpbmVzcy9pbmRpYS1idXNpbmVzcy9wYW5kZW1pYy1kaWRudC1kZXRlci1nb3Z0LWZyb20tdGFraW5nLXVwLXJlZm9ybXMtZm9yLXN1c3RhaW5pbmctbG9uZy10ZXJtLWdyb3d0aC1zaXRoYXJhbWFuL2FtcF9hcnRpY2xlc2hvdy84MDg5MjQyMy5jbXM?oc=5',\n",
       "  'media': None},\n",
       " {'title': 'Right to protest cannot be anytime and everywhere: SC on Shaheen Bagh CAA protests - The Indian Express',\n",
       "  'link': 'https://news.google.com/__i/rss/rd/articles/CBMiggFodHRwczovL2luZGlhbmV4cHJlc3MuY29tL2FydGljbGUvaW5kaWEvcmlnaHQtdG8tcHJvdGVzdC1jYW5ub3QtYmUtYW55dGltZS1hbmQtZXZlcnl3aGVyZS1zYy1vbi1zaGFoZWVuLWJhZ2gtY2FhLXByb3Rlc3RzLTcxODY5ODEv0gGHAWh0dHBzOi8vaW5kaWFuZXhwcmVzcy5jb20vYXJ0aWNsZS9pbmRpYS9yaWdodC10by1wcm90ZXN0LWNhbm5vdC1iZS1hbnl0aW1lLWFuZC1ldmVyeXdoZXJlLXNjLW9uLXNoYWhlZW4tYmFnaC1jYWEtcHJvdGVzdHMtNzE4Njk4MS9saXRlLw?oc=5',\n",
       "  'media': None},\n",
       " {'title': '‘Recced his office’: Jaish terrorist reveals Pak’s plan to target NSA Ajit Doval - Hindustan Times',\n",
       "  'link': 'https://news.google.com/__i/rss/rd/articles/CBMijAFodHRwczovL3d3dy5oaW5kdXN0YW50aW1lcy5jb20vaW5kaWEtbmV3cy9yZWNjZWQtaGlzLW9mZmljZS1qYWlzaC10ZXJyb3Jpc3QtcmV2ZWFscy1wYWstcy1wbGFuLXRvLXRhcmdldC1uc2EtYWppdC1kb3ZhbC0xMDE2MTMxODA5ODkzMDcuaHRtbNIBkAFodHRwczovL3d3dy5oaW5kdXN0YW50aW1lcy5jb20vaW5kaWEtbmV3cy9yZWNjZWQtaGlzLW9mZmljZS1qYWlzaC10ZXJyb3Jpc3QtcmV2ZWFscy1wYWstcy1wbGFuLXRvLXRhcmdldC1uc2EtYWppdC1kb3ZhbC0xMDE2MTMxODA5ODkzMDctYW1wLmh0bWw?oc=5',\n",
       "  'media': None},\n",
       " {'title': '4 Hyderabad tourists dead after bus plunges into gorge in Visakhapatnam - The News Minute',\n",
       "  'link': 'https://news.google.com/__i/rss/rd/articles/CBMibGh0dHBzOi8vd3d3LnRoZW5ld3NtaW51dGUuY29tL2FydGljbGUvNC1oeWRlcmFiYWQtdG91cmlzdHMtZGVhZC1hZnRlci1idXMtcGx1bmdlcy1nb3JnZS12aXNha2hhcGF0bmFtLTE0MzM0MdIBcGh0dHBzOi8vd3d3LnRoZW5ld3NtaW51dGUuY29tL2FydGljbGUvNC1oeWRlcmFiYWQtdG91cmlzdHMtZGVhZC1hZnRlci1idXMtcGx1bmdlcy1nb3JnZS12aXNha2hhcGF0bmFtLTE0MzM0MT9hbXA?oc=5',\n",
       "  'media': None},\n",
       " {'title': 'Second round of Covid vaccine booster shot in India starts today: 10 things to know - Mint',\n",
       "  'link': 'https://news.google.com/__i/rss/rd/articles/CBMiigFodHRwczovL3d3dy5saXZlbWludC5jb20vbmV3cy9pbmRpYS9zZWNvbmQtcm91bmQtb2YtY292aWQtdmFjY2luZS1ib29zdGVyLXNob3QtaW4taW5kaWEtc3RhcnRzLXRvZGF5LTEwLXRoaW5ncy10by1rbm93LTExNjEzMTk4MDI4Mzc5Lmh0bWzSAY4BaHR0cHM6Ly93d3cubGl2ZW1pbnQuY29tL25ld3MvaW5kaWEvc2Vjb25kLXJvdW5kLW9mLWNvdmlkLXZhY2NpbmUtYm9vc3Rlci1zaG90LWluLWluZGlhLXN0YXJ0cy10b2RheS0xMC10aGluZ3MtdG8ta25vdy9hbXAtMTE2MTMxOTgwMjgzNzkuaHRtbA?oc=5',\n",
       "  'media': None},\n",
       " {'title': 'With RaGa, Pawar and Sanjay Raut as Members, Parl Panel on Defence to Visit Galwan Valley, Pangong Tso - News18',\n",
       "  'link': 'https://news.google.com/__i/rss/rd/articles/CBMijwFodHRwczovL3d3dy5uZXdzMTguY29tL25ld3MvcG9saXRpY3Mvd2l0aC1yYWdhLXBhd2FyLWFuZC1zYW5qYXktcmF1dC1hcy1tZW1iZXJzLXBhcmwtcGFuZWwtb24tZGVmZW5jZS10by12aXNpdC1lYXN0ZXJuLWxhZGFraC1zb29uLTM0MjcyMTcuaHRtbNIBkwFodHRwczovL3d3dy5uZXdzMTguY29tL2FtcC9uZXdzL3BvbGl0aWNzL3dpdGgtcmFnYS1wYXdhci1hbmQtc2FuamF5LXJhdXQtYXMtbWVtYmVycy1wYXJsLXBhbmVsLW9uLWRlZmVuY2UtdG8tdmlzaXQtZWFzdGVybi1sYWRha2gtc29vbi0zNDI3MjE3Lmh0bWw?oc=5',\n",
       "  'media': None},\n",
       " {'title': 'West Bengal Bandh Live updates: Bandh supporters enforce shutdown in parts of Kolkata - The Indian Express',\n",
       "  'link': 'https://news.google.com/__i/rss/rd/articles/CBMiT2h0dHBzOi8vaW5kaWFuZXhwcmVzcy5jb20vYXJ0aWNsZS9pbmRpYS93ZXN0LWJlbmdhbC1iYW5kaC1saXZlLXVwZGF0ZXMtNzE4NTE5MC_SAVRodHRwczovL2luZGlhbmV4cHJlc3MuY29tL2FydGljbGUvaW5kaWEvd2VzdC1iZW5nYWwtYmFuZGgtbGl2ZS11cGRhdGVzLTcxODUxOTAvbGl0ZS8?oc=5',\n",
       "  'media': None},\n",
       " {'title': 'Ram Temple donations cross Rs 1,500 crore, says Shri Ram Janmbhoomi Teerth Kshetra Trust treasurer - Zee News',\n",
       "  'link': 'https://news.google.com/__i/rss/rd/articles/CBMilQFodHRwczovL3plZW5ld3MuaW5kaWEuY29tL3V0dGFyLXByYWRlc2gvcmFtLXRlbXBsZS1kb25hdGlvbnMtY3Jvc3MtcnMtMTUwMC1jcm9yZS1zYXlzLXNocmktcmFtLWphbm1iaG9vbWktdGVlcnRoLWtzaGV0cmEtdHJ1c3QtdHJlYXN1cmVyLTIzNDE1NTUuaHRtbNIBmQFodHRwczovL3plZW5ld3MuaW5kaWEuY29tL3V0dGFyLXByYWRlc2gvcmFtLXRlbXBsZS1kb25hdGlvbnMtY3Jvc3MtcnMtMTUwMC1jcm9yZS1zYXlzLXNocmktcmFtLWphbm1iaG9vbWktdGVlcnRoLWtzaGV0cmEtdHJ1c3QtdHJlYXN1cmVyLTIzNDE1NTUuaHRtbC9hbXA?oc=5',\n",
       "  'media': None},\n",
       " {'title': 'Earthquake of magnitude 6.3 in Tajikistan, tremors felt in North India - The Hindu',\n",
       "  'link': 'https://news.google.com/__i/rss/rd/articles/CBMieWh0dHBzOi8vd3d3LnRoZWhpbmR1LmNvbS9uZXdzL25hdGlvbmFsL2VhcnRocXVha2Utb2YtbWFnbml0dWRlLTYzLWluLXRhamlraXN0YW4tdHJlbW9ycy1mZWx0LWluLWRlbGhpL2FydGljbGUzMzgyNDk1My5lY2XSAX5odHRwczovL3d3dy50aGVoaW5kdS5jb20vbmV3cy9uYXRpb25hbC9lYXJ0aHF1YWtlLW9mLW1hZ25pdHVkZS02My1pbi10YWppa2lzdGFuLXRyZW1vcnMtZmVsdC1pbi1kZWxoaS9hcnRpY2xlMzM4MjQ5NTMuZWNlL2FtcC8?oc=5',\n",
       "  'media': None}]"
      ]
     },
     "execution_count": 27,
     "metadata": {},
     "output_type": "execute_result"
    }
   ],
   "source": [
    "client.get_news()"
   ]
  },
  {
   "cell_type": "code",
   "execution_count": null,
   "metadata": {},
   "outputs": [],
   "source": []
  }
 ],
 "metadata": {
  "kernelspec": {
   "display_name": "Python 3",
   "language": "python",
   "name": "python3"
  },
  "language_info": {
   "codemirror_mode": {
    "name": "ipython",
    "version": 3
   },
   "file_extension": ".py",
   "mimetype": "text/x-python",
   "name": "python",
   "nbconvert_exporter": "python",
   "pygments_lexer": "ipython3",
   "version": "3.8.5"
  }
 },
 "nbformat": 4,
 "nbformat_minor": 4
}
